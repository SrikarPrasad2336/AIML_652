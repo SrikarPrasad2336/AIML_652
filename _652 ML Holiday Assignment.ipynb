{
 "cells": [
  {
   "cell_type": "code",
   "execution_count": 2,
   "id": "12bd0882",
   "metadata": {},
   "outputs": [],
   "source": [
    "#1) Given a list of numbers with some missing values represented as None, replace the missing values with the mean of the non-missing numbers."
   ]
  },
  {
   "cell_type": "code",
   "execution_count": 9,
   "id": "5e0a2b28",
   "metadata": {},
   "outputs": [
    {
     "name": "stdout",
     "output_type": "stream",
     "text": [
      "[1, 2, 262.14285714285717, 8, 262.14285714285717, 32, 262.14285714285717, 262.14285714285717, 256, 512, 1024]\n"
     ]
    }
   ],
   "source": [
    "def replace_missing_with_mean(nos):\n",
    "    non_missing = [num for num in nos if num is not None]\n",
    "    mean_value = sum(non_missing) / len(non_missing) if non_missing else 0\n",
    "    return [num if num is not None else mean_value for num in nos]                      #2311CS020652(Srikar Prasad)\n",
    "                                                                                        \n",
    "nos = [1, 2, None, 8, None, 32, None, None, 256, 512,1024]\n",
    "res = replace_missing_with_mean(nos)\n",
    "print(res)"
   ]
  },
  {
   "cell_type": "code",
   "execution_count": 8,
   "id": "1a1ae166",
   "metadata": {},
   "outputs": [],
   "source": [
    "#2) Implement a function to scale a list of numbers using Min-Max Scaling. Use the formula: scaled(x) = x-min/max-min"
   ]
  },
  {
   "cell_type": "code",
   "execution_count": 13,
   "id": "ba5e0b3a",
   "metadata": {},
   "outputs": [
    {
     "name": "stdout",
     "output_type": "stream",
     "text": [
      "[0.0, 0.25, 0.5, 0.75, 1.0]\n"
     ]
    },
    {
     "data": {
      "text/plain": [
       "[0.0, 0.25, 0.5, 0.75, 1.0]"
      ]
     },
     "execution_count": 13,
     "metadata": {},
     "output_type": "execute_result"
    }
   ],
   "source": [
    "def min_max_scaling(data):\n",
    "    min_val = min(data)\n",
    "    max_val = max(data)\n",
    "    scaled_data = [(x - min_val) / (max_val - min_val) for x in data]                    #2311CS020652(Srikar Prasad)\n",
    "    print(scaled_data)\n",
    "    return scaled_data\n",
    "\n",
    "data = [10, 20, 30, 40, 50]\n",
    "min_max_scaling(data)"
   ]
  },
  {
   "cell_type": "code",
   "execution_count": 14,
   "id": "0d1b8628",
   "metadata": {},
   "outputs": [],
   "source": [
    "#3) Implement a function to binarize a list of numbers given a threshold. All values greater than or equal to the threshold should become 1, and all others should become 0."
   ]
  },
  {
   "cell_type": "code",
   "execution_count": 21,
   "id": "1a163b53",
   "metadata": {},
   "outputs": [
    {
     "name": "stdout",
     "output_type": "stream",
     "text": [
      "[1, 0, 1, 0, 1]\n"
     ]
    },
    {
     "data": {
      "text/plain": [
       "[1, 0, 1, 0, 1]"
      ]
     },
     "execution_count": 21,
     "metadata": {},
     "output_type": "execute_result"
    }
   ],
   "source": [
    "def binarize(data, threshold):\n",
    "    binary_data = [1 if x >= threshold else 0 for x in data]\n",
    "    print(binary_data)\n",
    "    return binary_data                                                                 #2311CS020652(Srikar Prasad)\n",
    "\n",
    "data = [59, 12, 54, 29, 86]\n",
    "threshold = 45\n",
    "binarize(data, threshold)"
   ]
  },
  {
   "cell_type": "code",
   "execution_count": 22,
   "id": "8448f09d",
   "metadata": {},
   "outputs": [],
   "source": [
    "#4) Given a function f(x)=2x+3, write a function to approximate f(x) by calculating the outputs for a given list of inputs. "
   ]
  },
  {
   "cell_type": "code",
   "execution_count": 23,
   "id": "d7dec1d4",
   "metadata": {},
   "outputs": [
    {
     "name": "stdout",
     "output_type": "stream",
     "text": [
      "[5, 11, 21, 35, 53]\n"
     ]
    },
    {
     "data": {
      "text/plain": [
       "[5, 11, 21, 35, 53]"
      ]
     },
     "execution_count": 23,
     "metadata": {},
     "output_type": "execute_result"
    }
   ],
   "source": [
    "def approximate_function(inputs):\n",
    "    outputs = [2 * x + 3 for x in inputs]\n",
    "    print(outputs)\n",
    "    return outputs                                                                        #2311CS020652(Srikar Prasad)\n",
    "\n",
    "inputs = [1, 4, 9, 16, 25]\n",
    "approximate_function(inputs)"
   ]
  },
  {
   "cell_type": "code",
   "execution_count": 24,
   "id": "622233ca",
   "metadata": {},
   "outputs": [],
   "source": [
    "#5) Write a function to standardize a list of numbers by subtracting the mean and dividing by the standard deviation."
   ]
  },
  {
   "cell_type": "code",
   "execution_count": 27,
   "id": "abed47be",
   "metadata": {},
   "outputs": [
    {
     "name": "stdout",
     "output_type": "stream",
     "text": [
      "[-1.2649110640673518, -0.6324555320336759, 0.0, 0.6324555320336759, 1.2649110640673518]\n"
     ]
    },
    {
     "data": {
      "text/plain": [
       "[-1.2649110640673518,\n",
       " -0.6324555320336759,\n",
       " 0.0,\n",
       " 0.6324555320336759,\n",
       " 1.2649110640673518]"
      ]
     },
     "execution_count": 27,
     "metadata": {},
     "output_type": "execute_result"
    }
   ],
   "source": [
    "import statistics\n",
    "\n",
    "def standardize(data):\n",
    "    mean = statistics.mean(data)\n",
    "    std_dev = statistics.stdev(data)\n",
    "    standardized_data = [(x - mean) / std_dev for x in data]                             #2311CS020652(Srikar Prasad)\n",
    "    print(standardized_data)\n",
    "    return standardized_data\n",
    "\n",
    "data = [1000, 2000, 3000, 4000, 5000 ]\n",
    "standardize(data)"
   ]
  },
  {
   "cell_type": "code",
   "execution_count": 28,
   "id": "2216d5b3",
   "metadata": {},
   "outputs": [],
   "source": [
    "#6) Given a list of data points and their corresponding labels, create a concept representation as a dictionary where keys are unique labels and values are lists of points belonging to each label."
   ]
  },
  {
   "cell_type": "code",
   "execution_count": 29,
   "id": "f4546d76",
   "metadata": {},
   "outputs": [
    {
     "name": "stdout",
     "output_type": "stream",
     "text": [
      "{'A': [2, 11, 21, 54, 28], 'B': [45, 34, 36], 'C': [23, 67]}\n"
     ]
    },
    {
     "data": {
      "text/plain": [
       "{'A': [2, 11, 21, 54, 28], 'B': [45, 34, 36], 'C': [23, 67]}"
      ]
     },
     "execution_count": 29,
     "metadata": {},
     "output_type": "execute_result"
    }
   ],
   "source": [
    "def create_concept_representation(data_points, labels):\n",
    "    concept_representation = {}\n",
    "    for point, label in zip(data_points, labels):\n",
    "        if label not in concept_representation:\n",
    "            concept_representation[label] = []                                            #2311CS020652(Srikar Prasad)\n",
    "        concept_representation[label].append(point)                                       \n",
    "    print(concept_representation)\n",
    "    return concept_representation\n",
    "\n",
    "data_points = [2, 45, 11, 34, 21, 23, 54, 36, 28, 67]\n",
    "labels = ['A', 'B', 'A', 'B', 'A', 'C','A','B','A','C','C']\n",
    "create_concept_representation(data_points, labels)"
   ]
  },
  {
   "cell_type": "code",
   "execution_count": 32,
   "id": "a2dd56b3",
   "metadata": {},
   "outputs": [],
   "source": [
    "#7) Write a function that categorizes a given machine learning task based on its description. The categories are \"Supervised Learning\" or \"Unsupervised Learning\"    Example Input: \"Predict the price of a house based on features like size, location, and age.\""
   ]
  },
  {
   "cell_type": "code",
   "execution_count": 33,
   "id": "661fb355",
   "metadata": {},
   "outputs": [
    {
     "name": "stdout",
     "output_type": "stream",
     "text": [
      "Supervised Learning\n"
     ]
    },
    {
     "data": {
      "text/plain": [
       "'Supervised Learning'"
      ]
     },
     "execution_count": 33,
     "metadata": {},
     "output_type": "execute_result"
    }
   ],
   "source": [
    "def categorize_ml_task(description):\n",
    "    supervised_keywords = ['predict', 'label', 'classification', 'regression', 'output']\n",
    "    unsupervised_keywords = ['cluster', 'group', 'association', 'pattern', 'dimension reduction']\n",
    "\n",
    "    if any(keyword in description.lower() for keyword in supervised_keywords):\n",
    "        category = \"Supervised Learning\"\n",
    "    elif any(keyword in description.lower() for keyword in unsupervised_keywords):\n",
    "        category = \"Unsupervised Learning\"                                                    #2311CS020652(Srikar Prasad)\n",
    "    else:\n",
    "        category = \"Unknown Category\"\n",
    "\n",
    "    print(category)\n",
    "    return category\n",
    "\n",
    "description = \"Predict the price of a house based on features like size, location, and age.\"\n",
    "categorize_ml_task(description)"
   ]
  },
  {
   "cell_type": "code",
   "execution_count": 34,
   "id": "920854c6",
   "metadata": {},
   "outputs": [],
   "source": [
    "#8) Write a function that categorizes a given machine learning task based on its description. The categories are \"Supervised Learning\" or \"Unsupervised Learning\" .  Example: \"Group customers based on their purchasing patterns.\""
   ]
  },
  {
   "cell_type": "code",
   "execution_count": 35,
   "id": "b9976a57",
   "metadata": {},
   "outputs": [
    {
     "name": "stdout",
     "output_type": "stream",
     "text": [
      "Unsupervised Learning\n"
     ]
    },
    {
     "data": {
      "text/plain": [
       "'Unsupervised Learning'"
      ]
     },
     "execution_count": 35,
     "metadata": {},
     "output_type": "execute_result"
    }
   ],
   "source": [
    "def categorize_ml_task(description):\n",
    "    supervised_keywords = ['predict', 'label', 'classification', 'regression', 'output']\n",
    "    unsupervised_keywords = ['cluster', 'group', 'association', 'pattern', 'dimension reduction']\n",
    "\n",
    "    if any(keyword in description.lower() for keyword in supervised_keywords):\n",
    "        category = \"Supervised Learning\"\n",
    "    elif any(keyword in description.lower() for keyword in unsupervised_keywords):\n",
    "        category = \"Unsupervised Learning\"                                                    #2311CS020652(Srikar Prasad)\n",
    "    else:\n",
    "        category = \"Unknown Category\"\n",
    "\n",
    "    print(category)\n",
    "    return category\n",
    "\n",
    "description =  \"Group customers based on their purchasing patterns.\"\n",
    "categorize_ml_task(description)"
   ]
  },
  {
   "cell_type": "code",
   "execution_count": 36,
   "id": "9400a010",
   "metadata": {},
   "outputs": [],
   "source": [
    "#9) Predict Y using a Simple Linear Model\n",
    "#Task:\n",
    "#Write a function that calculates the predicted y value given the slope m, intercept c, \n",
    "#and an input x using the formula for a line:\n",
    "#y=mx+c\n",
    "#Input:\n",
    "#Three values:\n",
    "#m (float): The slope of the line.\n",
    "#c (float): The y-intercept of the line.\n",
    "#x (float): The input value.\n",
    "#Output: A single float value representing y"
   ]
  },
  {
   "cell_type": "code",
   "execution_count": 37,
   "id": "3dce714c",
   "metadata": {},
   "outputs": [
    {
     "name": "stdout",
     "output_type": "stream",
     "text": [
      "2\n",
      "37\n",
      "5\n",
      "47.0\n"
     ]
    }
   ],
   "source": [
    "def predict_y(m, c, x):\n",
    "    y = m * x + c\n",
    "    return y\n",
    "\n",
    "# Example usage                                                                   \n",
    "m = float(input())\n",
    "c = float(input())                                                                           #2311CS020652(Srikar Prasad)\n",
    "x = float(input())\n",
    "predicted_y = predict_y(m, c, x)\n",
    "print(predicted_y)"
   ]
  },
  {
   "cell_type": "code",
   "execution_count": 38,
   "id": "2d30a8bb",
   "metadata": {},
   "outputs": [],
   "source": [
    "#10) Given an array of integers representing raw data, remove duplicates and sort the data in ascending order. Write a function to accomplish this.Example Input:[4, 2, 2, 8, 3, 3, 1]"
   ]
  },
  {
   "cell_type": "code",
   "execution_count": 39,
   "id": "af4ef32d",
   "metadata": {},
   "outputs": [
    {
     "name": "stdout",
     "output_type": "stream",
     "text": [
      "[1, 2, 3, 4, 8]\n"
     ]
    }
   ],
   "source": [
    "def remove_duplicates_and_sort(data):\n",
    "    unique_data = list(set(data))\n",
    "    unique_data.sort()\n",
    "    return unique_data                                                                    #2311CS020652(Srikar Prasad)\n",
    "\n",
    "# Example usage\n",
    "input_data = [4, 2, 2, 8, 3, 3, 1]\n",
    "sorted_data = remove_duplicates_and_sort(input_data)\n",
    "print(sorted_data)"
   ]
  },
  {
   "cell_type": "code",
   "execution_count": 40,
   "id": "a017cf5e",
   "metadata": {},
   "outputs": [],
   "source": [
    "#Case Study\n",
    "# A financial services company plans to build a machine learning model to automate loan approvals. The goal is to predict whether a loan application should be approved or rejected based on applicant details such as income, credit history, loan amount, and other factors. The \n",
    "#dataset contains missing values, outliers, and categorical variables, requiring significant preprocessing before training the model."
   ]
  },
  {
   "cell_type": "code",
   "execution_count": 7,
   "id": "c7ad0fb1",
   "metadata": {},
   "outputs": [
    {
     "name": "stdout",
     "output_type": "stream",
     "text": [
      "Dataset Overview:\n",
      "     Income CreditHistory  LoanAmount EmploymentStatus  Age  LoanApproved\n",
      "0       NaN          Fair      100000         Employed   61             0\n",
      "1   40795.0          Good       37062         Employed   51             1\n",
      "2   25860.0          Poor       26510       Unemployed   49             1\n",
      "3  128694.0          Poor       20426    Self-Employed   20             1\n",
      "4  144879.0          Good       38265    Self-Employed   20             0\n",
      "\n",
      "Classification Report:\n",
      "              precision    recall  f1-score   support\n",
      "\n",
      "           0       0.46      0.52      0.49        90\n",
      "           1       0.56      0.49      0.52       110\n",
      "\n",
      "    accuracy                           0.51       200\n",
      "   macro avg       0.51      0.51      0.50       200\n",
      "weighted avg       0.51      0.51      0.51       200\n",
      "\n",
      "\n",
      "Confusion Matrix:\n"
     ]
    },
    {
     "data": {
      "image/png": "[encoded data removed]",
      "text/plain": [
       "<Figure size 640x480 with 2 Axes>"
      ]
     },
     "metadata": {},
     "output_type": "display_data"
    }
   ],
   "source": [
    "import pandas as pd\n",
    "import numpy as np\n",
    "import seaborn as sns\n",
    "import matplotlib.pyplot as plt\n",
    "from sklearn.model_selection import train_test_split, cross_val_score\n",
    "from sklearn.preprocessing import StandardScaler, OneHotEncoder\n",
    "from sklearn.impute import SimpleImputer\n",
    "from sklearn.compose import ColumnTransformer\n",
    "from sklearn.pipeline import Pipeline\n",
    "from sklearn.ensemble import RandomForestClassifier\n",
    "from sklearn.metrics import classification_report, confusion_matrix\n",
    "\n",
    "# Simulating a dataset\n",
    "np.random.seed(42)\n",
    "n_samples = 1000\n",
    "data = {\n",
    "    'Income': np.random.randint(25000, 150000, size=n_samples),\n",
    "    'CreditHistory': np.random.choice(['Good', 'Fair', 'Poor', 'Excellent'], size=n_samples),\n",
    "    'LoanAmount': np.random.randint(1000, 50000, size=n_samples),\n",
    "    'EmploymentStatus': np.random.choice(['Employed', 'Self-Employed', 'Unemployed'], size=n_samples),\n",
    "    'Age': np.random.randint(18, 65, size=n_samples),\n",
    "    'LoanApproved': np.random.choice([0, 1], size=n_samples)  # 0 = Rejected, 1 = Approved\n",
    "}\n",
    "\n",
    "df = pd.DataFrame(data)\n",
    "\n",
    "# Introduce some missing values and outliers\n",
    "df.loc[::10, 'Income'] = np.nan  # Missing Income for every 10th row\n",
    "df.loc[::20, 'LoanAmount'] = 100000  # Outliers in LoanAmount\n",
    "\n",
    "# Show the first few rows of the dataset\n",
    "print(\"Dataset Overview:\")\n",
    "print(df.head())\n",
    "\n",
    "# Step 3: Data Preprocessing\n",
    "# Define categorical and numerical columns\n",
    "categorical_cols = ['CreditHistory', 'EmploymentStatus']\n",
    "numerical_cols = ['Income', 'LoanAmount', 'Age']\n",
    "\n",
    "# Create a column transformer to handle preprocessing\n",
    "numerical_transformer = Pipeline(steps=[\n",
    "    ('imputer', SimpleImputer(strategy='median')),  # Fill missing values with median\n",
    "    ('scaler', StandardScaler())  # Standardize numerical features\n",
    "])\n",
    "\n",
    "categorical_transformer = Pipeline(steps=[\n",
    "    ('imputer', SimpleImputer(strategy='most_frequent')),  # Fill missing with most frequent\n",
    "    ('encoder', OneHotEncoder(handle_unknown='ignore'))  # One-Hot Encoding\n",
    "])\n",
    "\n",
    "# Combine both transformers using ColumnTransformer\n",
    "preprocessor = ColumnTransformer(\n",
    "    transformers=[\n",
    "        ('num', numerical_transformer, numerical_cols),\n",
    "        ('cat', categorical_transformer, categorical_cols)\n",
    "    ])\n",
    "\n",
    "# Step 4: Train-test split\n",
    "X = df.drop('LoanApproved', axis=1)\n",
    "y = df['LoanApproved']\n",
    "\n",
    "X_train, X_test, y_train, y_test = train_test_split(X, y, test_size=0.2, random_state=42)\n",
    "\n",
    "# Step 5: Model Pipeline\n",
    "model_pipeline = Pipeline(steps=[\n",
    "    ('preprocessor', preprocessor),\n",
    "    ('classifier', RandomForestClassifier(random_state=42))\n",
    "])\n",
    "\n",
    "# Step 6: Model Training\n",
    "model_pipeline.fit(X_train, y_train)\n",
    "\n",
    "# Step 7: Model Evaluation\n",
    "y_pred = model_pipeline.predict(X_test)\n",
    "\n",
    "# Classification Report\n",
    "print(\"\\nClassification Report:\")\n",
    "print(classification_report(y_test, y_pred))\n",
    "\n",
    "# Confusion Matrix\n",
    "print(\"\\nConfusion Matrix:\")\n",
    "cm = confusion_matrix(y_test, y_pred)\n",
    "sns.heatmap(cm, annot=True, fmt='d', cmap='Blues', xticklabels=['Rejected', 'Approved'], yticklabels=['Rejected', 'Approved'])\n",
    "plt.xlabel('Predicted')\n",
    "plt.ylabel('Actual')\n",
    "plt.title('Confusion Matrix')\n",
    "plt.show()\n",
    "\n",
    "#2311CS020652(Srikar Prasad)"
   ]
  },
  {
   "cell_type": "code",
   "execution_count": null,
   "id": "2ec6ffba",
   "metadata": {},
   "outputs": [],
   "source": []
  }
 ],
 "metadata": {
  "kernelspec": {
   "display_name": "Python 3 (ipykernel)",
   "language": "python",
   "name": "python3"
  },
  "language_info": {
   "codemirror_mode": {
    "name": "ipython",
    "version": 3
   },
   "file_extension": ".py",
   "mimetype": "text/x-python",
   "name": "python",
   "nbconvert_exporter": "python",
   "pygments_lexer": "ipython3",
   "version": "3.11.4"
  }
 },
 "nbformat": 4,
 "nbformat_minor": 5
}
