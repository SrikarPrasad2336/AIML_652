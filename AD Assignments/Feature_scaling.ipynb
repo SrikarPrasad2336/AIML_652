{
  "nbformat": 4,
  "nbformat_minor": 0,
  "metadata": {
    "colab": {
      "provenance": []
    },
    "kernelspec": {
      "name": "python3",
      "display_name": "Python 3"
    },
    "language_info": {
      "name": "python"
    }
  },
  "cells": [
    {
      "cell_type": "code",
      "execution_count": null,
      "metadata": {
        "colab": {
          "base_uri": "https://localhost:8080/"
        },
        "id": "6iIOiNN38RvQ",
        "outputId": "73aa4356-15d6-450b-9f30-3d712ab430f9"
      },
      "outputs": [
        {
          "output_type": "stream",
          "name": "stdout",
          "text": [
            "   age  height  weight\n",
            "0   21     150      50\n",
            "1   36     165      60\n",
            "2   23     172      55\n",
            "3   34     180      70\n",
            "4   13     190      80\n",
            "[[0.34782609 0.         0.        ]\n",
            " [1.         0.375      0.33333333]\n",
            " [0.43478261 0.55       0.16666667]\n",
            " [0.91304348 0.75       0.66666667]\n",
            " [0.         1.         1.        ]]\n",
            "\n",
            "Normalized DataFrame (scaled to range [0, 1]):\n",
            "        age  height    weight\n",
            "0  0.347826   0.000  0.000000\n",
            "1  1.000000   0.375  0.333333\n",
            "2  0.434783   0.550  0.166667\n",
            "3  0.913043   0.750  0.666667\n",
            "4  0.000000   1.000  1.000000\n"
          ]
        }
      ],
      "source": [
        "import pandas as pd\n",
        "from sklearn.preprocessing import MinMaxScaler\n",
        "data = {\n",
        "    \"age\": [21,36,23,34,13],\n",
        "    \"height\":[150,165,172,180,190],\n",
        "    \"weight\":[50,60,55,70,80],\n",
        "}\n",
        "df = pd.DataFrame(data)\n",
        "print(df)\n",
        "scaler = MinMaxScaler()\n",
        "df_scaled = scaler.fit_transform(df)\n",
        "print(df_scaled)\n",
        "normalized_data=scaler.fit_transform(df)\n",
        "normalized_df = pd.DataFrame(normalized_data, columns=df.columns)\n",
        "print(\"\\nNormalized DataFrame (scaled to range [0, 1]):\")\n",
        "print(normalized_df)"
      ]
    },
    {
      "cell_type": "code",
      "source": [
        "import pandas as pd\n",
        "from sklearn.preprocessing import OneHotEncoder\n",
        "\n",
        "data = {\n",
        "    \"customer_id\": [1,2,3,4,5],\n",
        "    \"gender\": [\"male\",\"female\",\"male\",\"female\",\"male\"],\n",
        "    \"age\": [21,36,23,34,13]\n",
        "}\n",
        "\n",
        "df=pd.DataFrame(data)\n",
        "print(\"Original Dataframe:\")\n",
        "print(df)\n",
        "encoder = OneHotEncoder(sparse_output=False, handle_unknown='ignore')\n",
        "columns_to_encode = [\"gender\"]\n",
        "encoded_data = encoder.fit_transform(df[columns_to_encode])\n",
        "encoded_columns = encoder.get_feature_names_out(columns_to_encode)\n",
        "encoded_df = pd.DataFrame(encoded_data, columns=encoded_columns)\n",
        "print(\"\\nOne-Hot Encoded DataFrame with sklearn:\")\n",
        "print(encoded_df)"
      ],
      "metadata": {
        "id": "VehfCWPTEgGw",
        "colab": {
          "base_uri": "https://localhost:8080/"
        },
        "outputId": "22fefc65-d0ed-4829-917f-e9e3e9ced948"
      },
      "execution_count": 2,
      "outputs": [
        {
          "output_type": "stream",
          "name": "stdout",
          "text": [
            "Original Dataframe:\n",
            "   customer_id  gender  age\n",
            "0            1    male   21\n",
            "1            2  female   36\n",
            "2            3    male   23\n",
            "3            4  female   34\n",
            "4            5    male   13\n",
            "\n",
            "One-Hot Encoded DataFrame with sklearn:\n",
            "   gender_female  gender_male\n",
            "0            0.0          1.0\n",
            "1            1.0          0.0\n",
            "2            0.0          1.0\n",
            "3            1.0          0.0\n",
            "4            0.0          1.0\n"
          ]
        }
      ]
    },
    {
      "cell_type": "code",
      "source": [
        "import pandas as pd\n",
        "from sklearn.preprocessing import OneHotEncoder\n",
        "\n",
        "data = {\n",
        "    \"customer_id\": [1, 2, 3, 4, 5],\n",
        "    \"region\": [\"north\", \"south\", \"west\", \"east\", \"central\"],\n",
        "    \"loyalty_tier\": [\"gold\", \"silver\", \"bronze\", \"silver\", \"gold\"]\n",
        "}\n",
        "\n",
        "df = pd.DataFrame(data)\n",
        "print(\"Original Dataframe:\")\n",
        "print(df)\n",
        "encoder = OneHotEncoder(sparse_output=False, handle_unknown='ignore')\n",
        "columns_to_encode = [\"region\", \"loyalty_tier\"]\n",
        "encoded_data = encoder.fit_transform(df[columns_to_encode])\n",
        "encoded_columns = encoder.get_feature_names_out(columns_to_encode)\n",
        "encoded_df = pd.DataFrame(encoded_data, columns=encoded_columns)\n",
        "print(\"\\nOne-Hot Encoded DataFrame with sklearn:\")\n",
        "print(encoded_df)\n"
      ],
      "metadata": {
        "id": "vawpSQJzQYZT"
      },
      "execution_count": null,
      "outputs": []
    }
  ]
}