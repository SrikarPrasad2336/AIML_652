{
 "cells": [
  {
   "cell_type": "code",
   "execution_count": 1,
   "id": "95ebd452",
   "metadata": {},
   "outputs": [],
   "source": [
    "#Assignment 2: Cleaning and Preparing a Travel Customer Reviews Dataset\n",
    "#Objective:\n",
    "#To clean and prepare a dataset containing customer reviews of travel experiences.\n",
    "#Instructions:\n",
    "#Load the dataset containing customer reviews, ratings, and feedback.\n",
    "\n",
    "#Handle missing values:\n",
    "#Identify missing values in Review_Text, Rating, and Customer_Age.\n",
    "#Impute missing numerical values using appropriate techniques.\n",
    "#Use NLP-based techniques to handle missing textual data.\n",
    "\n",
    "#Detect and remove duplicates:\n",
    "#Use duplicated() to find repeated reviews.\n",
    "#Remove or merge duplicate records.\n",
    "\n",
    "#Handle inconsistent data:\n",
    "#Standardize Rating values (ensure they range between 1-5).\n",
    "#Correct spelling inconsistencies in Tour_Package names.\n",
    "\n",
    "#Identify and handle outliers:\n",
    "#Use boxplots to find anomalies in Package_Price and Rating.\n",
    "#Apply transformation techniques if necessary.\n",
    "\n",
    "#Prepare cleaned data for analysis:\n",
    "#Convert categorical data into numerical format where required.\n",
    "#Save the final cleaned dataset as a CSV file."
   ]
  },
  {
   "cell_type": "code",
   "execution_count": 3,
   "id": "abd55944",
   "metadata": {},
   "outputs": [
    {
     "name": "stdout",
     "output_type": "stream",
     "text": [
      "Booking_ID        0\n",
      "Destination      27\n",
      "Package_Price    20\n",
      "Customer_Age     15\n",
      "Rating           25\n",
      "Review_Text      20\n",
      "Travel_Date      10\n",
      "dtype: int64\n",
      "Number of duplicates: 5\n"
     ]
    },
    {
     "data": {
      "image/png": "[encoded data removed]",
      "text/plain": [
       "<Figure size 640x480 with 1 Axes>"
      ]
     },
     "metadata": {},
     "output_type": "display_data"
    },
    {
     "data": {
      "image/png": "[encoded data removed]",
      "text/plain": [
       "<Figure size 640x480 with 1 Axes>"
      ]
     },
     "metadata": {},
     "output_type": "display_data"
    }
   ],
   "source": [
    "import pandas as pd\n",
    "import matplotlib.pyplot as plt\n",
    "from sklearn.preprocessing import MinMaxScaler, StandardScaler\n",
    "from sklearn.feature_extraction.text import TfidfVectorizer\n",
    "from sklearn.impute import SimpleImputer\n",
    "\n",
    "file_path = r'C:\\ML\\Day_18_Tours_and_Travels.csv'\n",
    "df = pd.read_csv(file_path)\n",
    "\n",
    "# 2. Handle Missing Values\n",
    "print(df.isnull().sum())\n",
    "\n",
    "if 'Rating' in df.columns:\n",
    "    df['Rating'].fillna(df['Rating'].mean(), inplace=True)\n",
    "\n",
    "if 'Customer_Age' in df.columns:\n",
    "    df['Customer_Age'].fillna(df['Customer_Age'].mean(), inplace=True)\n",
    "\n",
    "if 'Review_Text' in df.columns:\n",
    "    tfidf = TfidfVectorizer()\n",
    "    review_text_tfidf = tfidf.fit_transform(df['Review_Text'].fillna(''))\n",
    "    imputer = SimpleImputer(strategy='constant', fill_value='')\n",
    "    df['Review_Text'] = imputer.fit_transform(df[['Review_Text']])\n",
    "\n",
    "# 3. Detect and Remove Duplicates\n",
    "duplicates = df.duplicated()\n",
    "print(f\"Number of duplicates: {duplicates.sum()}\")\n",
    "df.drop_duplicates(inplace=True)\n",
    "\n",
    "# 4. Handle Inconsistent Data\n",
    "if 'Rating' in df.columns:\n",
    "    df['Rating'] = df['Rating'].apply(lambda x: min(5, max(1, x)))\n",
    "\n",
    "if 'Tour_Package' in df.columns:\n",
    "    df['Tour_Package'] = df['Tour_Package'].replace({'Packge1': 'Package1', 'Packge2': 'Package2'})\n",
    "\n",
    "# 5. Identify and Handle Outliers\n",
    "if 'Package_Price' in df.columns:\n",
    "    plt.boxplot(df['Package_Price'])\n",
    "    plt.show()\n",
    "    upper_limit_price = df['Package_Price'].quantile(0.95)\n",
    "    lower_limit_price = df['Package_Price'].quantile(0.05)\n",
    "    df['Package_Price'] = df['Package_Price'].apply(lambda x: upper_limit_price if x > upper_limit_price else lower_limit_price if x < lower_limit_price else x)\n",
    "\n",
    "if 'Rating' in df.columns:\n",
    "    plt.boxplot(df['Rating'])\n",
    "    plt.show()\n",
    "\n",
    "# 6. Prepare Cleaned Data for Analysis\n",
    "if 'Tour_Package' in df.columns:\n",
    "    df['Tour_Package'] = df['Tour_Package'].astype('category').cat.codes\n",
    "\n",
    "# 7. Final Data Export\n",
    "df.to_csv('cleaned_customer_reviews.csv', index=False)\n"
   ]
  },
  {
   "cell_type": "code",
   "execution_count": null,
   "id": "be0aecbf",
   "metadata": {},
   "outputs": [],
   "source": []
  }
 ],
 "metadata": {
  "kernelspec": {
   "display_name": "Python 3 (ipykernel)",
   "language": "python",
   "name": "python3"
  },
  "language_info": {
   "codemirror_mode": {
    "name": "ipython",
    "version": 3
   },
   "file_extension": ".py",
   "mimetype": "text/x-python",
   "name": "python",
   "nbconvert_exporter": "python",
   "pygments_lexer": "ipython3",
   "version": "3.11.4"
  }
 },
 "nbformat": 4,
 "nbformat_minor": 5
}
